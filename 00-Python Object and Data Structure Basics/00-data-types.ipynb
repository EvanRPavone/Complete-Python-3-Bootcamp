{
 "cells": [
  {
   "cell_type": "markdown",
   "metadata": {},
   "source": [
    "| Name   | Type | Description |\n",
    "| ------ | ---- | ----------- |\n",
    "| Integers | int | Whole Numbers, such as: 3 300 200 |\n",
    "| Floating Point | float | Numbers with a decimal point: 2.3 4.6 100.0 |\n",
    "| Strings | str | Ordered sequence of characters: \"hello\" 'Sammy' \"2000\" |\n",
    "| Lists | list | Ordered sequence of objects: [10, \"hello\", 200.3] |\n",
    "| Dictionaries | dict | Unordered Key:Value pairs: {\"mykey\":\"value\", \"name\":\"Evan\"} |\n",
    "| Tuples | tup | Ordered immutable sequence of objects: (10,\"hello\",200.3) |\n",
    "| Sets | set | Unordered collection of unique objects: {\"a\",\"b\"} |\n",
    "| Booleans | bool | Logical value indicating True or False |\n",
    "<!-- | Integer | Type | Description | -->\n"
   ]
  }
 ],
 "metadata": {
  "language_info": {
   "name": "python"
  }
 },
 "nbformat": 4,
 "nbformat_minor": 2
}
